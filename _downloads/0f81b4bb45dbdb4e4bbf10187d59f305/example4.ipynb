{
  "cells": [
    {
      "cell_type": "markdown",
      "metadata": {},
      "source": [
        "\n# Example 4\n\ntest\n"
      ]
    },
    {
      "cell_type": "code",
      "execution_count": null,
      "metadata": {
        "collapsed": false
      },
      "outputs": [],
      "source": [
        "import numpy as np\nimport matplotlib.pyplot as plt\nfrom mytoolbox.module1 import Circle\n\ncircles = np.array(\n    [Circle(np.random.random((2,)), np.random.random_sample()) for i in range(5)]\n)\n\nfig, ax = plt.subplots(1, 1, layout=\"constrained\")\nfor circle in circles:\n    circle.plot(ax, edgecolor=\"k\")\n\nax.set_xlim([-2, 2])\nax.set_ylim([-2, 2])\nplt.show()"
      ]
    }
  ],
  "metadata": {
    "kernelspec": {
      "display_name": "Python 3",
      "language": "python",
      "name": "python3"
    },
    "language_info": {
      "codemirror_mode": {
        "name": "ipython",
        "version": 3
      },
      "file_extension": ".py",
      "mimetype": "text/x-python",
      "name": "python",
      "nbconvert_exporter": "python",
      "pygments_lexer": "ipython3",
      "version": "3.11.6"
    }
  },
  "nbformat": 4,
  "nbformat_minor": 0
}